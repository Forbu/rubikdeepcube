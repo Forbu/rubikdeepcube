{
 "cells": [
  {
   "cell_type": "code",
   "execution_count": null,
   "metadata": {},
   "outputs": [],
   "source": [
    "#### Implementing AlphaZero algorithm on rubik's cube"
   ]
  },
  {
   "cell_type": "code",
   "execution_count": 1,
   "metadata": {},
   "outputs": [],
   "source": [
    "import gym\n",
    "import gym_Rubiks_Cube\n",
    "import numpy as np"
   ]
  },
  {
   "cell_type": "code",
   "execution_count": null,
   "metadata": {},
   "outputs": [],
   "source": []
  },
  {
   "cell_type": "code",
   "execution_count": 2,
   "metadata": {},
   "outputs": [],
   "source": [
    "import torch\n",
    "from torch import nn\n"
   ]
  },
  {
   "cell_type": "code",
   "execution_count": 42,
   "metadata": {},
   "outputs": [],
   "source": [
    "import torch.nn.functional as F\n",
    "\n",
    "class rubiksSolver(nn.Module):\n",
    "    def __init__(self):\n",
    "        super(rubiksSolver, self).__init__()\n",
    "        self.layer_1 = nn.Linear(in_features=54*6, out_features=4096, bias=True)\n",
    "        self.layer_2 = nn.Linear(in_features=4096, out_features=2048, bias=True)\n",
    "        self.layer_3 = nn.Linear(in_features=2048, out_features=18+1, bias=True)\n",
    "\n",
    "    def forward(self, x):\n",
    "        ## First 3 layers ok\n",
    "        x = self.layer_1(x)\n",
    "        x = F.relu(x)\n",
    "        x = self.layer_2(x)\n",
    "        x = F.relu(x)\n",
    "        x = self.layer_3(x)\n",
    "        \n",
    "        ## Softmax on the 9 first values\n",
    "        actions_proba = F.softmax(x[:, :18])\n",
    "        \n",
    "        ## relu on the last value\n",
    "        value_fonction = F.relu(x[:,18])\n",
    "        \n",
    "        return actions_proba, value_fonction\n",
    "        \n"
   ]
  },
  {
   "cell_type": "code",
   "execution_count": 43,
   "metadata": {},
   "outputs": [],
   "source": [
    "# now we create the input of the vector\n",
    "model = rubiksSolver()\n",
    "\n",
    "# the conversion part "
   ]
  },
  {
   "cell_type": "code",
   "execution_count": 82,
   "metadata": {},
   "outputs": [],
   "source": [
    "### Encoders \n",
    "\n",
    "from sklearn.preprocessing import OneHotEncoder\n",
    "\n",
    "lb = OneHotEncoder(sparse=False)\n",
    "list_type_array = np.array(list(range(6)))\n",
    "lb.fit(list_type_array.reshape(-1, 1))\n",
    "\n",
    "\n",
    "lb_action = OneHotEncoder(sparse=False)\n",
    "list_type_array_action = np.array(list(range(18)))\n",
    "lb_action.fit(list_type_array_action.reshape(-1, 1))\n",
    "\n",
    "def input_for_model(obs):\n",
    "    return lb.transform(obs.reshape(-1, 1)).flatten()\n",
    "\n",
    "def intput_for_env(action_prob):\n",
    "    return lb_action.inverse_transform(action)"
   ]
  },
  {
   "cell_type": "code",
   "execution_count": null,
   "metadata": {},
   "outputs": [],
   "source": []
  },
  {
   "cell_type": "code",
   "execution_count": 3,
   "metadata": {},
   "outputs": [
    {
     "name": "stdout",
     "output_type": "stream",
     "text": [
      "[5 5 5 5 5 5 5 5 5 2 2 2 2 2 2 2 2 2 1 1 1 1 1 1 1 1 1 0 0 0 0 0 0 0 0 0 3\n",
      " 3 3 3 3 3 3 3 3 4 4 4 4 4 4 4 4 4]\n"
     ]
    }
   ],
   "source": [
    "env = gym.make(\"RubiksCube-v0\")\n",
    "\n",
    "env.setScramble(1, 2, False)\n",
    "print(env.reset()) # scramble status\n",
    "#obs, rew, done, _ = env.step(0)"
   ]
  },
  {
   "cell_type": "code",
   "execution_count": null,
   "metadata": {},
   "outputs": [],
   "source": []
  },
  {
   "cell_type": "code",
   "execution_count": 145,
   "metadata": {},
   "outputs": [
    {
     "name": "stderr",
     "output_type": "stream",
     "text": [
      "/Users/adrienbufort/opt/anaconda3/lib/python3.7/site-packages/ipykernel_launcher.py:19: UserWarning: Implicit dimension choice for softmax has been deprecated. Change the call to include dim=X as an argument.\n"
     ]
    }
   ],
   "source": [
    "#### Main code to explore the possibilities\n",
    "\n",
    "data_in = input_for_model(obs)\n",
    "data_in = torch.from_numpy(data_in).float()\n",
    "\n",
    "\n",
    "action_prob , value_fonction = model(data_in.view(-1, 54*6))\n",
    "\n",
    "action_choice = np.random.choice(np.array(range(18)), p=action_prob.data.numpy().reshape(9,))\n",
    "\n",
    "if action_choice < 9:\n",
    "    obs, rew, done, _ = env.step(action_choice)\n",
    "else:\n",
    "    # inverse\n",
    "    env.step(action_choice)\n",
    "    env.step(action_choice)\n",
    "    obs, rew, done, _ = env.step(action_choice)\n",
    "    \n"
   ]
  },
  {
   "cell_type": "code",
   "execution_count": 30,
   "metadata": {},
   "outputs": [],
   "source": [
    "def env_next(action_choice, env):\n",
    "    if action_choice < 9:\n",
    "        obs, rew, done, _ = env.step(action_choice)\n",
    "    else:\n",
    "        # inverse\n",
    "        env.step(action_choice % 9)\n",
    "        env.step(action_choice % 9)\n",
    "        obs, rew, done, _ = env.step(action_choice % 9)\n",
    "    return obs, rew, done, _ \n",
    "        "
   ]
  },
  {
   "cell_type": "code",
   "execution_count": 31,
   "metadata": {},
   "outputs": [
    {
     "data": {
      "text/plain": [
       "'\\nIn the todo we have :\\n\\n    - The sampling generation x_i for all the shuffle of the cube\\n    - ADI (see paper) : for each x_i we do a 1-breath for search to find the max of current action\\n\\nThen we have to code the MCTS to find our solution (or the kind of MCTS) exploring a good chunk of the space to create the solver\\n\\n'"
      ]
     },
     "execution_count": 31,
     "metadata": {},
     "output_type": "execute_result"
    }
   ],
   "source": [
    "#### TODO\n",
    "\"\"\"\n",
    "In the todo we have :\n",
    "\n",
    "    - The sampling generation x_i for all the shuffle of the cube\n",
    "    - ADI (see paper) : for each x_i we do a 1-breath for search to find the max of current action\n",
    "\n",
    "Then we have to code the MCTS to find our solution (or the kind of MCTS) exploring a good chunk of the space to create the solver\n",
    "\n",
    "\"\"\"\n",
    "\n"
   ]
  },
  {
   "cell_type": "code",
   "execution_count": 53,
   "metadata": {},
   "outputs": [],
   "source": [
    "### Autodidactic value\n",
    "def train_on_ADI(nb_shuffle = 16, nb_depth_max= 10):\n",
    "    \n",
    "    train_set = []\n",
    "    shuffle = np.random.randint(0, 18, nb_depth_max)\n",
    "    \n",
    "    for i in range(nb_shuffle):\n",
    "        env.reset()\n",
    "        rew_tmp = 1\n",
    "        for j in range(nb_depth_max):\n",
    "            obs, rew, done, _ = env_next(shuffle[j], env)\n",
    "            train_set.append([input_for_model(obs).reshape((1, 324)), (shuffle[j]+9) % 18, rew_tmp, j+1])\n",
    "            rew_tmp = rew\n",
    "\n",
    "    return train_set\n",
    "\n"
   ]
  },
  {
   "cell_type": "code",
   "execution_count": null,
   "metadata": {},
   "outputs": [],
   "source": [
    "gamma = 0.99"
   ]
  },
  {
   "cell_type": "code",
   "execution_count": 89,
   "metadata": {},
   "outputs": [],
   "source": [
    "train_set = train_on_ADI()\n",
    "\n",
    "states = list(map(lambda x: torch.from_numpy(x[0]), train_set))\n",
    "actions = np.array(list(map(lambda x: x[1], train_set)))\n",
    "\n",
    "\n"
   ]
  },
  {
   "cell_type": "code",
   "execution_count": null,
   "metadata": {},
   "outputs": [],
   "source": [
    "actions = torch.from_numpy(lb_action.transform(actions.reshape(-1, 1)))\n",
    "\n",
    "values = torch.tensor(list(map(lambda x: x[2], train_set)))\n",
    "\n",
    "states = torch.cat(states, 0)\n",
    "actions = torch.cat(actions, 0)\n",
    "values = torch.cat(values, 0)\n"
   ]
  },
  {
   "cell_type": "code",
   "execution_count": 90,
   "metadata": {},
   "outputs": [
    {
     "data": {
      "text/plain": [
       "(1000,)"
      ]
     },
     "execution_count": 90,
     "metadata": {},
     "output_type": "execute_result"
    }
   ],
   "source": [
    "#### Init the model with corrent best stuff we can do\n",
    "actions.shape"
   ]
  },
  {
   "cell_type": "code",
   "execution_count": 19,
   "metadata": {},
   "outputs": [
    {
     "name": "stdout",
     "output_type": "stream",
     "text": [
      "         \u001b[5m\u001b[7m\u001b[32m + \u001b[0m\u001b[5m\u001b[7m\u001b[32m + \u001b[0m\u001b[5m\u001b[7m\u001b[32m + \u001b[0m                  \n",
      "         \u001b[5m\u001b[7m\u001b[32m + \u001b[0m\u001b[5m\u001b[7m\u001b[32m + \u001b[0m\u001b[5m\u001b[7m\u001b[32m + \u001b[0m                  \n",
      "         \u001b[5m\u001b[7m\u001b[32m + \u001b[0m\u001b[5m\u001b[7m\u001b[32m + \u001b[0m\u001b[5m\u001b[7m\u001b[32m + \u001b[0m                  \n",
      "\u001b[5m\u001b[7m\u001b[31m + \u001b[0m\u001b[5m\u001b[7m\u001b[31m + \u001b[0m\u001b[5m\u001b[7m\u001b[31m + \u001b[0m\u001b[5m\u001b[7m\u001b[37m + \u001b[0m\u001b[5m\u001b[7m\u001b[37m + \u001b[0m\u001b[5m\u001b[7m\u001b[37m + \u001b[0m\u001b[5m\u001b[7m\u001b[35m + \u001b[0m\u001b[5m\u001b[7m\u001b[35m + \u001b[0m\u001b[5m\u001b[7m\u001b[35m + \u001b[0m\u001b[5m\u001b[7m\u001b[33m + \u001b[0m\u001b[5m\u001b[7m\u001b[33m + \u001b[0m\u001b[5m\u001b[7m\u001b[33m + \u001b[0m\n",
      "\u001b[5m\u001b[7m\u001b[31m + \u001b[0m\u001b[5m\u001b[7m\u001b[31m + \u001b[0m\u001b[5m\u001b[7m\u001b[31m + \u001b[0m\u001b[5m\u001b[7m\u001b[37m + \u001b[0m\u001b[5m\u001b[7m\u001b[37m + \u001b[0m\u001b[5m\u001b[7m\u001b[37m + \u001b[0m\u001b[5m\u001b[7m\u001b[35m + \u001b[0m\u001b[5m\u001b[7m\u001b[35m + \u001b[0m\u001b[5m\u001b[7m\u001b[35m + \u001b[0m\u001b[5m\u001b[7m\u001b[33m + \u001b[0m\u001b[5m\u001b[7m\u001b[33m + \u001b[0m\u001b[5m\u001b[7m\u001b[33m + \u001b[0m\n",
      "\u001b[5m\u001b[7m\u001b[31m + \u001b[0m\u001b[5m\u001b[7m\u001b[31m + \u001b[0m\u001b[5m\u001b[7m\u001b[31m + \u001b[0m\u001b[5m\u001b[7m\u001b[37m + \u001b[0m\u001b[5m\u001b[7m\u001b[37m + \u001b[0m\u001b[5m\u001b[7m\u001b[37m + \u001b[0m\u001b[5m\u001b[7m\u001b[35m + \u001b[0m\u001b[5m\u001b[7m\u001b[35m + \u001b[0m\u001b[5m\u001b[7m\u001b[35m + \u001b[0m\u001b[5m\u001b[7m\u001b[33m + \u001b[0m\u001b[5m\u001b[7m\u001b[33m + \u001b[0m\u001b[5m\u001b[7m\u001b[33m + \u001b[0m\n",
      "         \u001b[5m\u001b[7m\u001b[34m + \u001b[0m\u001b[5m\u001b[7m\u001b[34m + \u001b[0m\u001b[5m\u001b[7m\u001b[34m + \u001b[0m                  \n",
      "         \u001b[5m\u001b[7m\u001b[34m + \u001b[0m\u001b[5m\u001b[7m\u001b[34m + \u001b[0m\u001b[5m\u001b[7m\u001b[34m + \u001b[0m                  \n",
      "         \u001b[5m\u001b[7m\u001b[34m + \u001b[0m\u001b[5m\u001b[7m\u001b[34m + \u001b[0m\u001b[5m\u001b[7m\u001b[34m + \u001b[0m                  \n",
      "\n",
      "1.0\n"
     ]
    }
   ],
   "source": [
    "obs, rew, done, _ = env.step(0)\n",
    "env.render()\n",
    "print(rew)"
   ]
  },
  {
   "cell_type": "code",
   "execution_count": 27,
   "metadata": {},
   "outputs": [
    {
     "data": {
      "text/plain": [
       "<bound method RubiksCubeEnv.reset of <gym_Rubiks_Cube.envs.rubiks_cube_env.RubiksCubeEnv object at 0x11c289090>>"
      ]
     },
     "execution_count": 27,
     "metadata": {},
     "output_type": "execute_result"
    }
   ],
   "source": [
    "env.reset"
   ]
  },
  {
   "cell_type": "code",
   "execution_count": 129,
   "metadata": {},
   "outputs": [
    {
     "data": {
      "text/plain": [
       "array([[0.11916346, 0.10949372, 0.10370624, 0.11654171, 0.11517142,\n",
       "        0.11497392, 0.10954474, 0.1023467 , 0.10905815]], dtype=float32)"
      ]
     },
     "execution_count": 129,
     "metadata": {},
     "output_type": "execute_result"
    }
   ],
   "source": [
    "action_prob.data.numpy()"
   ]
  },
  {
   "cell_type": "code",
   "execution_count": 140,
   "metadata": {},
   "outputs": [
    {
     "data": {
      "text/plain": [
       "1"
      ]
     },
     "execution_count": 140,
     "metadata": {},
     "output_type": "execute_result"
    }
   ],
   "source": []
  },
  {
   "cell_type": "code",
   "execution_count": 119,
   "metadata": {},
   "outputs": [
    {
     "data": {
      "text/plain": [
       "2"
      ]
     },
     "execution_count": 119,
     "metadata": {},
     "output_type": "execute_result"
    }
   ],
   "source": [
    "data_in.view(-1, 54*6).dim()"
   ]
  },
  {
   "cell_type": "code",
   "execution_count": 9,
   "metadata": {},
   "outputs": [
    {
     "name": "stdout",
     "output_type": "stream",
     "text": [
      "[3 1 3 5 5 3 0 0 3 4 2 2 4 2 2 4 1 1 5 1 1 5 1 5 5 1 5 0 0 2 0 0 0 4 2 2 3\n",
      " 3 2 3 3 2 1 4 1 4 4 0 4 4 3 5 5 0]\n",
      "         \u001b[5m\u001b[7m\u001b[32m + \u001b[0m\u001b[5m\u001b[7m\u001b[32m + \u001b[0m\u001b[5m\u001b[7m\u001b[33m + \u001b[0m                  \n",
      "         \u001b[5m\u001b[7m\u001b[32m + \u001b[0m\u001b[5m\u001b[7m\u001b[32m + \u001b[0m\u001b[5m\u001b[7m\u001b[33m + \u001b[0m                  \n",
      "         \u001b[5m\u001b[7m\u001b[35m + \u001b[0m\u001b[5m\u001b[7m\u001b[34m + \u001b[0m\u001b[5m\u001b[7m\u001b[35m + \u001b[0m                  \n",
      "\u001b[5m\u001b[7m\u001b[31m + \u001b[0m\u001b[5m\u001b[7m\u001b[31m + \u001b[0m\u001b[5m\u001b[7m\u001b[33m + \u001b[0m\u001b[5m\u001b[7m\u001b[32m + \u001b[0m\u001b[5m\u001b[7m\u001b[35m + \u001b[0m\u001b[5m\u001b[7m\u001b[32m + \u001b[0m\u001b[5m\u001b[7m\u001b[37m + \u001b[0m\u001b[5m\u001b[7m\u001b[35m + \u001b[0m\u001b[5m\u001b[7m\u001b[35m + \u001b[0m\u001b[5m\u001b[7m\u001b[34m + \u001b[0m\u001b[5m\u001b[7m\u001b[33m + \u001b[0m\u001b[5m\u001b[7m\u001b[33m + \u001b[0m\n",
      "\u001b[5m\u001b[7m\u001b[31m + \u001b[0m\u001b[5m\u001b[7m\u001b[31m + \u001b[0m\u001b[5m\u001b[7m\u001b[31m + \u001b[0m\u001b[5m\u001b[7m\u001b[37m + \u001b[0m\u001b[5m\u001b[7m\u001b[37m + \u001b[0m\u001b[5m\u001b[7m\u001b[32m + \u001b[0m\u001b[5m\u001b[7m\u001b[37m + \u001b[0m\u001b[5m\u001b[7m\u001b[35m + \u001b[0m\u001b[5m\u001b[7m\u001b[37m + \u001b[0m\u001b[5m\u001b[7m\u001b[34m + \u001b[0m\u001b[5m\u001b[7m\u001b[33m + \u001b[0m\u001b[5m\u001b[7m\u001b[33m + \u001b[0m\n",
      "\u001b[5m\u001b[7m\u001b[34m + \u001b[0m\u001b[5m\u001b[7m\u001b[33m + \u001b[0m\u001b[5m\u001b[7m\u001b[33m + \u001b[0m\u001b[5m\u001b[7m\u001b[31m + \u001b[0m\u001b[5m\u001b[7m\u001b[31m + \u001b[0m\u001b[5m\u001b[7m\u001b[32m + \u001b[0m\u001b[5m\u001b[7m\u001b[37m + \u001b[0m\u001b[5m\u001b[7m\u001b[35m + \u001b[0m\u001b[5m\u001b[7m\u001b[37m + \u001b[0m\u001b[5m\u001b[7m\u001b[34m + \u001b[0m\u001b[5m\u001b[7m\u001b[35m + \u001b[0m\u001b[5m\u001b[7m\u001b[35m + \u001b[0m\n",
      "         \u001b[5m\u001b[7m\u001b[34m + \u001b[0m\u001b[5m\u001b[7m\u001b[34m + \u001b[0m\u001b[5m\u001b[7m\u001b[31m + \u001b[0m                  \n",
      "         \u001b[5m\u001b[7m\u001b[34m + \u001b[0m\u001b[5m\u001b[7m\u001b[34m + \u001b[0m\u001b[5m\u001b[7m\u001b[32m + \u001b[0m                  \n",
      "         \u001b[5m\u001b[7m\u001b[37m + \u001b[0m\u001b[5m\u001b[7m\u001b[37m + \u001b[0m\u001b[5m\u001b[7m\u001b[31m + \u001b[0m                  \n",
      "\n",
      "         \u001b[5m\u001b[7m\u001b[32m + \u001b[0m\u001b[5m\u001b[7m\u001b[32m + \u001b[0m\u001b[5m\u001b[7m\u001b[32m + \u001b[0m                  \n",
      "         \u001b[5m\u001b[7m\u001b[32m + \u001b[0m\u001b[5m\u001b[7m\u001b[32m + \u001b[0m\u001b[5m\u001b[7m\u001b[35m + \u001b[0m                  \n",
      "         \u001b[5m\u001b[7m\u001b[33m + \u001b[0m\u001b[5m\u001b[7m\u001b[31m + \u001b[0m\u001b[5m\u001b[7m\u001b[32m + \u001b[0m                  \n",
      "\u001b[5m\u001b[7m\u001b[31m + \u001b[0m\u001b[5m\u001b[7m\u001b[31m + \u001b[0m\u001b[5m\u001b[7m\u001b[34m + \u001b[0m\u001b[5m\u001b[7m\u001b[31m + \u001b[0m\u001b[5m\u001b[7m\u001b[37m + \u001b[0m\u001b[5m\u001b[7m\u001b[37m + \u001b[0m\u001b[5m\u001b[7m\u001b[35m + \u001b[0m\u001b[5m\u001b[7m\u001b[34m + \u001b[0m\u001b[5m\u001b[7m\u001b[35m + \u001b[0m\u001b[5m\u001b[7m\u001b[33m + \u001b[0m\u001b[5m\u001b[7m\u001b[33m + \u001b[0m\u001b[5m\u001b[7m\u001b[33m + \u001b[0m\n",
      "\u001b[5m\u001b[7m\u001b[31m + \u001b[0m\u001b[5m\u001b[7m\u001b[31m + \u001b[0m\u001b[5m\u001b[7m\u001b[34m + \u001b[0m\u001b[5m\u001b[7m\u001b[31m + \u001b[0m\u001b[5m\u001b[7m\u001b[37m + \u001b[0m\u001b[5m\u001b[7m\u001b[32m + \u001b[0m\u001b[5m\u001b[7m\u001b[35m + \u001b[0m\u001b[5m\u001b[7m\u001b[35m + \u001b[0m\u001b[5m\u001b[7m\u001b[35m + \u001b[0m\u001b[5m\u001b[7m\u001b[33m + \u001b[0m\u001b[5m\u001b[7m\u001b[33m + \u001b[0m\u001b[5m\u001b[7m\u001b[33m + \u001b[0m\n",
      "\u001b[5m\u001b[7m\u001b[34m + \u001b[0m\u001b[5m\u001b[7m\u001b[33m + \u001b[0m\u001b[5m\u001b[7m\u001b[31m + \u001b[0m\u001b[5m\u001b[7m\u001b[32m + \u001b[0m\u001b[5m\u001b[7m\u001b[32m + \u001b[0m\u001b[5m\u001b[7m\u001b[31m + \u001b[0m\u001b[5m\u001b[7m\u001b[37m + \u001b[0m\u001b[5m\u001b[7m\u001b[37m + \u001b[0m\u001b[5m\u001b[7m\u001b[35m + \u001b[0m\u001b[5m\u001b[7m\u001b[33m + \u001b[0m\u001b[5m\u001b[7m\u001b[35m + \u001b[0m\u001b[5m\u001b[7m\u001b[35m + \u001b[0m\n",
      "         \u001b[5m\u001b[7m\u001b[37m + \u001b[0m\u001b[5m\u001b[7m\u001b[37m + \u001b[0m\u001b[5m\u001b[7m\u001b[34m + \u001b[0m                  \n",
      "         \u001b[5m\u001b[7m\u001b[34m + \u001b[0m\u001b[5m\u001b[7m\u001b[34m + \u001b[0m\u001b[5m\u001b[7m\u001b[34m + \u001b[0m                  \n",
      "         \u001b[5m\u001b[7m\u001b[37m + \u001b[0m\u001b[5m\u001b[7m\u001b[37m + \u001b[0m\u001b[5m\u001b[7m\u001b[34m + \u001b[0m                  \n",
      "\n",
      "Scramble:  [7, 4, 9, 7, 3]\n",
      "Action:  [0, 1]\n"
     ]
    }
   ],
   "source": [
    "\n",
    "env.setScramble(1, 10, True)\n",
    "print(env.reset()) # scramble status\n",
    "env.render()\n",
    "obs, rew, done, _ = env.step(0) # action 0~11\n",
    "obs, rew, done, _ = env.step(1) # action 0~11\n",
    "env.render()\n",
    "scramble, action = env.getlog()\n",
    "print(\"Scramble: \", scramble)\n",
    "print(\"Action: \", action)"
   ]
  },
  {
   "cell_type": "code",
   "execution_count": 6,
   "metadata": {},
   "outputs": [
    {
     "name": "stdout",
     "output_type": "stream",
     "text": [
      "Discrete(12)\n",
      "Box(54,)\n"
     ]
    }
   ],
   "source": [
    "print(env.action_space)\n",
    "print(env.observation_space)\n"
   ]
  },
  {
   "cell_type": "code",
   "execution_count": 20,
   "metadata": {},
   "outputs": [
    {
     "data": {
      "text/plain": [
       "(array([5, 5, 4, 5, 5, 4, 5, 5, 4, 3, 2, 2, 3, 2, 2, 3, 2, 2, 1, 1, 1, 1,\n",
       "        1, 1, 1, 1, 1, 0, 0, 0, 0, 0, 0, 0, 0, 0, 3, 3, 5, 3, 3, 5, 3, 3,\n",
       "        5, 4, 4, 2, 4, 4, 2, 4, 4, 2]), 0.0, False, {})"
      ]
     },
     "execution_count": 20,
     "metadata": {},
     "output_type": "execute_result"
    }
   ],
   "source": [
    "obs, rew, done, _"
   ]
  },
  {
   "cell_type": "code",
   "execution_count": 21,
   "metadata": {},
   "outputs": [
    {
     "data": {
      "text/plain": [
       "54"
      ]
     },
     "execution_count": 21,
     "metadata": {},
     "output_type": "execute_result"
    }
   ],
   "source": [
    "len(obs)"
   ]
  },
  {
   "cell_type": "code",
   "execution_count": 5,
   "metadata": {},
   "outputs": [
    {
     "name": "stdout",
     "output_type": "stream",
     "text": [
      "[2 3 5 4 0 5 3 5 0 4 1 1 4 3 4 1 1 2 0 5 3 2 0 2]\n",
      "      \u001b[5m\u001b[7m\u001b[35m + \u001b[0m\u001b[5m\u001b[7m\u001b[33m + \u001b[0m            \n",
      "      \u001b[5m\u001b[7m\u001b[31m + \u001b[0m\u001b[5m\u001b[7m\u001b[37m + \u001b[0m            \n",
      "\u001b[5m\u001b[7m\u001b[34m + \u001b[0m\u001b[5m\u001b[7m\u001b[32m + \u001b[0m\u001b[5m\u001b[7m\u001b[33m + \u001b[0m\u001b[5m\u001b[7m\u001b[32m + \u001b[0m\u001b[5m\u001b[7m\u001b[31m + \u001b[0m\u001b[5m\u001b[7m\u001b[34m + \u001b[0m\u001b[5m\u001b[7m\u001b[31m + \u001b[0m\u001b[5m\u001b[7m\u001b[37m + \u001b[0m\n",
      "\u001b[5m\u001b[7m\u001b[34m + \u001b[0m\u001b[5m\u001b[7m\u001b[35m + \u001b[0m\u001b[5m\u001b[7m\u001b[37m + \u001b[0m\u001b[5m\u001b[7m\u001b[34m + \u001b[0m\u001b[5m\u001b[7m\u001b[35m + \u001b[0m\u001b[5m\u001b[7m\u001b[35m + \u001b[0m\u001b[5m\u001b[7m\u001b[32m + \u001b[0m\u001b[5m\u001b[7m\u001b[37m + \u001b[0m\n",
      "      \u001b[5m\u001b[7m\u001b[32m + \u001b[0m\u001b[5m\u001b[7m\u001b[33m + \u001b[0m            \n",
      "      \u001b[5m\u001b[7m\u001b[31m + \u001b[0m\u001b[5m\u001b[7m\u001b[33m + \u001b[0m            \n",
      "\n",
      "      \u001b[5m\u001b[7m\u001b[35m + \u001b[0m\u001b[5m\u001b[7m\u001b[33m + \u001b[0m            \n",
      "      \u001b[5m\u001b[7m\u001b[35m + \u001b[0m\u001b[5m\u001b[7m\u001b[32m + \u001b[0m            \n",
      "\u001b[5m\u001b[7m\u001b[34m + \u001b[0m\u001b[5m\u001b[7m\u001b[32m + \u001b[0m\u001b[5m\u001b[7m\u001b[37m + \u001b[0m\u001b[5m\u001b[7m\u001b[31m + \u001b[0m\u001b[5m\u001b[7m\u001b[37m + \u001b[0m\u001b[5m\u001b[7m\u001b[31m + \u001b[0m\u001b[5m\u001b[7m\u001b[32m + \u001b[0m\u001b[5m\u001b[7m\u001b[37m + \u001b[0m\n",
      "\u001b[5m\u001b[7m\u001b[34m + \u001b[0m\u001b[5m\u001b[7m\u001b[33m + \u001b[0m\u001b[5m\u001b[7m\u001b[34m + \u001b[0m\u001b[5m\u001b[7m\u001b[33m + \u001b[0m\u001b[5m\u001b[7m\u001b[35m + \u001b[0m\u001b[5m\u001b[7m\u001b[34m + \u001b[0m\u001b[5m\u001b[7m\u001b[33m + \u001b[0m\u001b[5m\u001b[7m\u001b[37m + \u001b[0m\n",
      "      \u001b[5m\u001b[7m\u001b[35m + \u001b[0m\u001b[5m\u001b[7m\u001b[32m + \u001b[0m            \n",
      "      \u001b[5m\u001b[7m\u001b[31m + \u001b[0m\u001b[5m\u001b[7m\u001b[31m + \u001b[0m            \n",
      "\n",
      "Scramble:  [10, 3, 2, 0, 5, 4, 2]\n",
      "Action:  [0, 1]\n"
     ]
    }
   ],
   "source": [
    "\n",
    "\n",
    "# 2x2 Rubik's Cube\n",
    "env = gym.make(\"RubiksCube2x2-v0\")\n",
    "\n",
    "print(env.reset()) # scramble status\n",
    "env.render()\n",
    "env.step(0) # action 0~11\n",
    "env.step(1) # action 0~11\n",
    "env.render()\n",
    "scramble, action = env.getlog()\n",
    "print(\"Scramble: \", scramble)\n",
    "print(\"Action: \", action)"
   ]
  },
  {
   "cell_type": "code",
   "execution_count": 60,
   "metadata": {},
   "outputs": [],
   "source": [
    "\n",
    "\n"
   ]
  },
  {
   "cell_type": "code",
   "execution_count": 64,
   "metadata": {},
   "outputs": [],
   "source": []
  },
  {
   "cell_type": "code",
   "execution_count": 82,
   "metadata": {},
   "outputs": [],
   "source": [
    "\n",
    "\n",
    "sol = lb_action.transform(np.array(1).reshape(-1, 1))\n",
    "\n",
    "sol_transform = sol\n"
   ]
  },
  {
   "cell_type": "code",
   "execution_count": 84,
   "metadata": {},
   "outputs": [
    {
     "data": {
      "text/plain": [
       "array([[1]])"
      ]
     },
     "execution_count": 84,
     "metadata": {},
     "output_type": "execute_result"
    }
   ],
   "source": [
    "lb_action.inverse_transform(sol.reshape((1,-1)))"
   ]
  },
  {
   "cell_type": "code",
   "execution_count": null,
   "metadata": {},
   "outputs": [],
   "source": []
  },
  {
   "cell_type": "code",
   "execution_count": 56,
   "metadata": {},
   "outputs": [
    {
     "data": {
      "text/plain": [
       "array([0, 5, 5, 0, 5, 3, 3, 3, 0, 2, 2, 2, 2, 2, 2, 2, 1, 1, 1, 4, 1, 1,\n",
       "       1, 1, 5, 5, 1, 0, 0, 4, 0, 0, 4, 4, 2, 0, 3, 3, 3, 3, 3, 1, 2, 0,\n",
       "       3, 5, 5, 4, 4, 4, 4, 5, 5, 4])"
      ]
     },
     "execution_count": 56,
     "metadata": {},
     "output_type": "execute_result"
    }
   ],
   "source": []
  },
  {
   "cell_type": "code",
   "execution_count": 57,
   "metadata": {},
   "outputs": [
    {
     "data": {
      "text/plain": [
       "array([0, 5, 5, 0, 5, 3, 3, 3, 0, 2, 2, 2, 2, 2, 2, 2, 1, 1, 1, 4, 1, 1,\n",
       "       1, 1, 5, 5, 1, 0, 0, 4, 0, 0, 4, 4, 2, 0, 3, 3, 3, 3, 3, 1, 2, 0,\n",
       "       3, 5, 5, 4, 4, 4, 4, 5, 5, 4])"
      ]
     },
     "execution_count": 57,
     "metadata": {},
     "output_type": "execute_result"
    }
   ],
   "source": [
    "obs"
   ]
  },
  {
   "cell_type": "code",
   "execution_count": null,
   "metadata": {},
   "outputs": [],
   "source": []
  }
 ],
 "metadata": {
  "kernelspec": {
   "display_name": "Python 3",
   "language": "python",
   "name": "python3"
  },
  "language_info": {
   "codemirror_mode": {
    "name": "ipython",
    "version": 3
   },
   "file_extension": ".py",
   "mimetype": "text/x-python",
   "name": "python",
   "nbconvert_exporter": "python",
   "pygments_lexer": "ipython3",
   "version": "3.7.6"
  }
 },
 "nbformat": 4,
 "nbformat_minor": 4
}
